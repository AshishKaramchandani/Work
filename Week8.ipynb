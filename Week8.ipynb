{
 "cells": [
  {
   "cell_type": "code",
   "execution_count": 1,
   "id": "755266fd",
   "metadata": {},
   "outputs": [],
   "source": [
    "#Import Python Libraries\n",
    "\n",
    "import numpy as np\n",
    "import pandas as pd\n",
    "from sklearn.model_selection import train_test_split, ShuffleSplit, cross_val_score\n",
    "from sklearn.neighbors import KNeighborsClassifier\n",
    "from sklearn import metrics\n",
    "from scipy.spatial.distance import cdist\n",
    "from sklearn.pipeline import make_pipeline\n",
    "import matplotlib.pyplot as plt"
   ]
  },
  {
   "cell_type": "code",
   "execution_count": 2,
   "id": "56f95aa3",
   "metadata": {},
   "outputs": [
    {
     "name": "stdout",
     "output_type": "stream",
     "text": [
      "Accuracy: 72.29%\n"
     ]
    },
    {
     "data": {
      "text/html": [
       "<div>\n",
       "<style scoped>\n",
       "    .dataframe tbody tr th:only-of-type {\n",
       "        vertical-align: middle;\n",
       "    }\n",
       "\n",
       "    .dataframe tbody tr th {\n",
       "        vertical-align: top;\n",
       "    }\n",
       "\n",
       "    .dataframe thead th {\n",
       "        text-align: right;\n",
       "    }\n",
       "</style>\n",
       "<table border=\"1\" class=\"dataframe\">\n",
       "  <thead>\n",
       "    <tr style=\"text-align: right;\">\n",
       "      <th>col_0</th>\n",
       "      <th>tested_negative</th>\n",
       "      <th>tested_positive</th>\n",
       "    </tr>\n",
       "    <tr>\n",
       "      <th>class</th>\n",
       "      <th></th>\n",
       "      <th></th>\n",
       "    </tr>\n",
       "  </thead>\n",
       "  <tbody>\n",
       "    <tr>\n",
       "      <th>tested_negative</th>\n",
       "      <td>124</td>\n",
       "      <td>23</td>\n",
       "    </tr>\n",
       "    <tr>\n",
       "      <th>tested_positive</th>\n",
       "      <td>41</td>\n",
       "      <td>43</td>\n",
       "    </tr>\n",
       "  </tbody>\n",
       "</table>\n",
       "</div>"
      ],
      "text/plain": [
       "col_0            tested_negative  tested_positive\n",
       "class                                            \n",
       "tested_negative              124               23\n",
       "tested_positive               41               43"
      ]
     },
     "execution_count": 2,
     "metadata": {},
     "output_type": "execute_result"
    }
   ],
   "source": [
    "## Data Preparation and KNN modeling\n",
    "\n",
    "diabetes = pd.read_csv(\"https://datahub.io/machine-learning/diabetes/r/diabetes.csv\")\n",
    "X = diabetes.drop('class', axis=1)\n",
    "y = diabetes['class']\n",
    "X_train, X_test, y_train, y_test = train_test_split(X, y, test_size=0.3, random_state=16)\n",
    "classifier = KNeighborsClassifier()\n",
    "classifier.fit(X_train, y_train)\n",
    "y_pred = classifier.predict(X_test)\n",
    "print(f\"Accuracy: {round(metrics.accuracy_score(y_test, y_pred)*100, 2)}%\")\n",
    "df_confusion = pd.crosstab(y_test, y_pred)\n",
    "df_confusion"
   ]
  },
  {
   "cell_type": "code",
   "execution_count": 3,
   "id": "71559853",
   "metadata": {},
   "outputs": [
    {
     "data": {
      "text/plain": [
       "preg      3.309324\n",
       "plas     32.972357\n",
       "pres     19.563244\n",
       "skin     16.123755\n",
       "insu    115.457871\n",
       "mass      8.165811\n",
       "pedi      0.332525\n",
       "age      11.459534\n",
       "dtype: float64"
      ]
     },
     "execution_count": 3,
     "metadata": {},
     "output_type": "execute_result"
    }
   ],
   "source": [
    "## Preprocess Data: Standardization/Normalization\n",
    "\n",
    "import warnings\n",
    "warnings.filterwarnings(\"ignore\")\n",
    "\n",
    "from sklearn.preprocessing import StandardScaler\n",
    "scaler = StandardScaler()\n",
    "scaler.fit(X_train)\n",
    "\n",
    "X_train_std = scaler.transform(X_train)\n",
    "X_test_std = scaler.transform(X_test)\n",
    "pd.DataFrame(X_train_std).mean()\n",
    "X_train_std.std()\n",
    "X_train.mean()\n",
    "X_train.std()"
   ]
  },
  {
   "cell_type": "code",
   "execution_count": 4,
   "id": "4fc8ad29",
   "metadata": {},
   "outputs": [
    {
     "name": "stdout",
     "output_type": "stream",
     "text": [
      "Accuracy: 74.89%\n"
     ]
    }
   ],
   "source": [
    "## KNN Performance Evaluation\n",
    "\n",
    "classifier_std = KNeighborsClassifier()\n",
    "classifier_std.fit(X_train_std, y_train)\n",
    "y_pred_std = classifier_std.predict(X_test_std)\n",
    "pd.Series(y_pred_std).value_counts()\n",
    "value, count = np.unique(y_pred_std, return_counts=True)\n",
    "pd.DataFrame({\"value\": value, \"count\": count})\n",
    "print(f\"Accuracy: {round(metrics.accuracy_score(y_test, y_pred_std)*100, 2)}%\")"
   ]
  },
  {
   "cell_type": "code",
   "execution_count": 5,
   "id": "765a2bc1",
   "metadata": {},
   "outputs": [
    {
     "data": {
      "text/plain": [
       "tested_negative    165\n",
       "tested_positive     66\n",
       "dtype: int64"
      ]
     },
     "execution_count": 5,
     "metadata": {},
     "output_type": "execute_result"
    }
   ],
   "source": [
    "## Use Pipeline to Streamline the Analysis\n",
    "\n",
    "knn_pipe = make_pipeline(StandardScaler(), KNeighborsClassifier())\n",
    "knn_pipe.fit(X_train, y_train)\n",
    "pipe_pred = knn_pipe.predict(X_test)\n",
    "pd.Series(pipe_pred).value_counts()"
   ]
  },
  {
   "cell_type": "code",
   "execution_count": 6,
   "id": "05541e49",
   "metadata": {},
   "outputs": [
    {
     "data": {
      "text/plain": [
       "0.7022361984626136"
      ]
     },
     "execution_count": 6,
     "metadata": {},
     "output_type": "execute_result"
    }
   ],
   "source": [
    "## Get Repeated Hold Out Accurary of Model\n",
    "\n",
    "cv = ShuffleSplit(n_splits=100, test_size=0.3, random_state=16)\n",
    "from sklearn.model_selection import KFold\n",
    "cv = KFold(n_splits=10, shuffle=True, random_state=16)\n",
    "cross_val_score(knn_pipe, X_train, y_train, cv=cv).mean()"
   ]
  },
  {
   "cell_type": "code",
   "execution_count": 7,
   "id": "20553612",
   "metadata": {},
   "outputs": [
    {
     "data": {
      "image/png": "[encoded data removed]",
      "text/plain": [
       "<Figure size 432x288 with 1 Axes>"
      ]
     },
     "metadata": {
      "needs_background": "light"
     },
     "output_type": "display_data"
    }
   ],
   "source": [
    "## Sensitivity Analysis\n",
    "\n",
    "from matplotlib.legend_handler import HandlerLine2D\n",
    "neighbors = list(range(1, 30))\n",
    "train_results = []\n",
    "test_results = []\n",
    "for n in neighbors:\n",
    "  model = KNeighborsClassifier(n_neighbors=n)\n",
    "  model.fit(X_train_std, y_train)\n",
    "  train_pred = model.predict(X_train_std)\n",
    "  acc = cross_val_score(model, X_train_std, y_train, cv=cv).mean()*100\n",
    "  train_results.append(acc)\n",
    "  y_pred = model.predict(X_test_std)\n",
    "  acc_test = round(metrics.accuracy_score(y_test, y_pred)*100, 2)\n",
    "  test_results.append(acc_test)\n",
    "\n",
    "line1, = plt.plot(neighbors, train_results, 'b', label=\"Train Accuracy\")\n",
    "line2, = plt.plot(neighbors, test_results, 'r', label=\"Test Accuracy\")\n",
    "plt.legend(handler_map={line1: HandlerLine2D(numpoints=2)})\n",
    "plt.ylabel(\"Accuracy\")\n",
    "plt.xlabel(\"n_neighbors\")\n",
    "plt.show()"
   ]
  },
  {
   "cell_type": "code",
   "execution_count": 8,
   "id": "279261f6",
   "metadata": {},
   "outputs": [
    {
     "name": "stdout",
     "output_type": "stream",
     "text": [
      "Accuracy: 73.03%\n"
     ]
    }
   ],
   "source": [
    "## Ensemble Learning - Bagging\n",
    "\n",
    "from sklearn.ensemble import BaggingClassifier\n",
    "from sklearn.tree import DecisionTreeClassifier\n",
    "\n",
    "cart = DecisionTreeClassifier()\n",
    "num_trees = 100\n",
    "model = BaggingClassifier(base_estimator=cart, n_estimators=num_trees, random_state=16)\n",
    "results = cross_val_score(model, X_train_std, y_train, cv=cv)\n",
    "print(f\"Accuracy: {round(results.mean()*100, 2)}%\")"
   ]
  },
  {
   "cell_type": "code",
   "execution_count": 9,
   "id": "1a4264eb",
   "metadata": {},
   "outputs": [
    {
     "name": "stdout",
     "output_type": "stream",
     "text": [
      "Accuracy: 73.59%\n"
     ]
    },
    {
     "data": {
      "text/plain": [
       "RandomForestClassifier(max_features=5, random_state=16)"
      ]
     },
     "execution_count": 9,
     "metadata": {},
     "output_type": "execute_result"
    }
   ],
   "source": [
    "## Random Forest\n",
    "\n",
    "from sklearn.ensemble import RandomForestClassifier\n",
    "\n",
    "model = RandomForestClassifier(n_estimators=num_trees, max_features=5, random_state=16)\n",
    "results = cross_val_score(model, X_train_std, y_train, cv=cv)\n",
    "print(f\"Accuracy: {round(results.mean()*100, 2)}%\")\n",
    "model"
   ]
  },
  {
   "cell_type": "code",
   "execution_count": 10,
   "id": "d61f5ccb",
   "metadata": {},
   "outputs": [
    {
     "data": {
      "text/html": [
       "<div>\n",
       "<style scoped>\n",
       "    .dataframe tbody tr th:only-of-type {\n",
       "        vertical-align: middle;\n",
       "    }\n",
       "\n",
       "    .dataframe tbody tr th {\n",
       "        vertical-align: top;\n",
       "    }\n",
       "\n",
       "    .dataframe thead th {\n",
       "        text-align: right;\n",
       "    }\n",
       "</style>\n",
       "<table border=\"1\" class=\"dataframe\">\n",
       "  <thead>\n",
       "    <tr style=\"text-align: right;\">\n",
       "      <th></th>\n",
       "      <th>importance</th>\n",
       "    </tr>\n",
       "  </thead>\n",
       "  <tbody>\n",
       "    <tr>\n",
       "      <th>plas</th>\n",
       "      <td>0.299555</td>\n",
       "    </tr>\n",
       "    <tr>\n",
       "      <th>mass</th>\n",
       "      <td>0.192756</td>\n",
       "    </tr>\n",
       "    <tr>\n",
       "      <th>pedi</th>\n",
       "      <td>0.133711</td>\n",
       "    </tr>\n",
       "    <tr>\n",
       "      <th>age</th>\n",
       "      <td>0.105525</td>\n",
       "    </tr>\n",
       "    <tr>\n",
       "      <th>pres</th>\n",
       "      <td>0.083997</td>\n",
       "    </tr>\n",
       "    <tr>\n",
       "      <th>preg</th>\n",
       "      <td>0.067676</td>\n",
       "    </tr>\n",
       "    <tr>\n",
       "      <th>insu</th>\n",
       "      <td>0.059420</td>\n",
       "    </tr>\n",
       "    <tr>\n",
       "      <th>skin</th>\n",
       "      <td>0.057359</td>\n",
       "    </tr>\n",
       "  </tbody>\n",
       "</table>\n",
       "</div>"
      ],
      "text/plain": [
       "      importance\n",
       "plas    0.299555\n",
       "mass    0.192756\n",
       "pedi    0.133711\n",
       "age     0.105525\n",
       "pres    0.083997\n",
       "preg    0.067676\n",
       "insu    0.059420\n",
       "skin    0.057359"
      ]
     },
     "execution_count": 10,
     "metadata": {},
     "output_type": "execute_result"
    }
   ],
   "source": [
    "## Feature Importance\n",
    "\n",
    "model.fit(X_train_std, y_train)\n",
    "feature_imp = pd.DataFrame(model.feature_importances_, index=X_train.columns,\n",
    "columns=['importance']).sort_values('importance', ascending=False)\n",
    "feature_imp"
   ]
  },
  {
   "cell_type": "code",
   "execution_count": 11,
   "id": "2130ac4c",
   "metadata": {},
   "outputs": [
    {
     "name": "stdout",
     "output_type": "stream",
     "text": [
      "Accuracy: 72.08%\n"
     ]
    },
    {
     "data": {
      "text/plain": [
       "AdaBoostClassifier(n_estimators=100, random_state=16)"
      ]
     },
     "execution_count": 11,
     "metadata": {},
     "output_type": "execute_result"
    }
   ],
   "source": [
    "## AdaBoosting\n",
    "\n",
    "from sklearn.ensemble import AdaBoostClassifier\n",
    "model = AdaBoostClassifier(n_estimators=num_trees, random_state=16)\n",
    "results = cross_val_score(model, X_train_std, y_train, cv=cv)\n",
    "print(f\"Accuracy: {round(results.mean()*100, 2)}%\")\n",
    "model"
   ]
  },
  {
   "cell_type": "code",
   "execution_count": 12,
   "id": "e7be91d5",
   "metadata": {},
   "outputs": [
    {
     "name": "stdout",
     "output_type": "stream",
     "text": [
      "Accuracy for GBM: 72.47%\n"
     ]
    },
    {
     "data": {
      "text/plain": [
       "GradientBoostingClassifier(random_state=16)"
      ]
     },
     "execution_count": 12,
     "metadata": {},
     "output_type": "execute_result"
    }
   ],
   "source": [
    "## GBM\n",
    "\n",
    "from sklearn.ensemble import GradientBoostingClassifier as gbm\n",
    "model = gbm(n_estimators=num_trees, random_state=16)\n",
    "results = cross_val_score(model, X_train_std, y_train, cv=cv)\n",
    "print(f\"Accuracy for GBM: {round(results.mean()*100, 2)}%\")\n",
    "model"
   ]
  },
  {
   "cell_type": "code",
   "execution_count": 13,
   "id": "33f986ee",
   "metadata": {},
   "outputs": [
    {
     "data": {
      "text/plain": [
       "GridSearchCV(estimator=GradientBoostingClassifier(),\n",
       "             param_grid={'learning_rate': array([0.02, 0.04, 0.06, 0.08]),\n",
       "                         'max_depth': range(2, 5),\n",
       "                         'n_estimators': range(60, 160, 50)})"
      ]
     },
     "execution_count": 13,
     "metadata": {},
     "output_type": "execute_result"
    }
   ],
   "source": [
    "## Model Tuning\n",
    "\n",
    "from sklearn.model_selection import GridSearchCV\n",
    "param_grid = {'learning_rate': np.arange(0.02, 0.1, 0.02),\n",
    "              'n_estimators': range(60, 160, 50),\n",
    "              'max_depth': range(2, 5)}\n",
    "clf = GridSearchCV(gbm(), param_grid)\n",
    "clf.fit(X_train_std, y_train)"
   ]
  },
  {
   "cell_type": "code",
   "execution_count": 14,
   "id": "56e74e4b",
   "metadata": {},
   "outputs": [
    {
     "name": "stdout",
     "output_type": "stream",
     "text": [
      "Accuracy for best GBM: 77.11%\n",
      "Best hyperparameter is learning_rate: 0.08\n",
      "Best hyperparameter is max_depth: 2\n",
      "Best hyperparameter is n_estimators: 60\n"
     ]
    }
   ],
   "source": [
    "## Model Tuning (2)\n",
    "\n",
    "print(f\"Accuracy for best GBM: {round(clf.best_score_*100, 2)}%\")\n",
    "for key, val in clf.best_params_.items():\n",
    "  print(f\"Best hyperparameter is {key}: {val}\")"
   ]
  }
 ],
 "metadata": {
  "kernelspec": {
   "display_name": "Python 3",
   "language": "python",
   "name": "python3"
  },
  "language_info": {
   "codemirror_mode": {
    "name": "ipython",
    "version": 3
   },
   "file_extension": ".py",
   "mimetype": "text/x-python",
   "name": "python",
   "nbconvert_exporter": "python",
   "pygments_lexer": "ipython3",
   "version": "3.8.10"
  }
 },
 "nbformat": 4,
 "nbformat_minor": 5
}
